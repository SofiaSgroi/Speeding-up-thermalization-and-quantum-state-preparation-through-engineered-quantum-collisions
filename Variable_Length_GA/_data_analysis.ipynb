{
 "cells": [
  {
   "cell_type": "code",
   "execution_count": 1,
   "metadata": {},
   "outputs": [],
   "source": [
    "folder_name = \"twoAlevs30Slevs_nonlinear_squeezed1T5\""
   ]
  },
  {
   "cell_type": "code",
   "execution_count": 2,
   "metadata": {},
   "outputs": [
    {
     "name": "stdout",
     "output_type": "stream",
     "text": [
      "results/twoAlevs30Slevs_nonlinear_squeezed1T5/info/seedfile.txt\n"
     ]
    }
   ],
   "source": [
    "seed_path = \"results/\" + folder_name + \"/info/seedfile.txt\"\n",
    "print(seed_path)\n",
    "with open(seed_path, \"rb\") as f:\n",
    "        seed_value = int(f.read())\n",
    "\n",
    "import numpy as np\n",
    "np.random.seed(seed_value)\n",
    "\n",
    "import matplotlib.pyplot as plt\n",
    "%matplotlib inline\n",
    "\n",
    "import os\n",
    "import shutil\n",
    "\n",
    "from scipy.linalg import expm, sqrtm\n",
    "\n",
    "import GA\n",
    "import physics_functions\n",
    "import physics_classes\n",
    "import utils\n",
    "\n",
    "exec(\"from results.\" + folder_name + \".info.hyperparameters_physics import *\")\n",
    "exec(\"from results.\" + folder_name + \".info.hyperparameters_GA import *\")\n",
    "exec(\"from results.\" + folder_name + \".info.config import *\")\n",
    "\n",
    "\n",
    "if ancilla_levs==2:\n",
    "        model = physics_classes.model_qubitAncillas(rho0_tuple, N_levs, Omega_S, T, linear_interaction, omegaA_range_list, grange_list, npdtype=npdtype)\n",
    "elif ancilla_levs==3:\n",
    "        model = physics_classes.model_3levsAncillas(rho0_tuple, N_levs, Omega_S, T, linear_interaction, omegaA_range_list, grange_list, npdtype=npdtype)\n",
    "\n",
    "solution = np.loadtxt(\"results/\" + folder_name +\"/solution\")\n",
    "history = np.loadtxt(\"results/\" + folder_name +\"/history\")\n",
    "\n",
    "\n",
    "N_c, t_c, omegaA_list, g_I_list, rhoA_list = model.read_string(solution)\n",
    "rhoS_list = model.evolve(solution)"
   ]
  },
  {
   "cell_type": "code",
   "execution_count": 3,
   "metadata": {},
   "outputs": [
    {
     "name": "stdout",
     "output_type": "stream",
     "text": [
      "Number of collisions:  73\n",
      "Collision_time:  0.0684931506849315\n",
      "Ancillas frequencies:  1.8151465492409744\n",
      "Interaction strengths:  [np.float64(8.951999893902496e-05), np.float64(-0.5313577754449732)]\n",
      "Best:  -0.057419\n",
      "Required time:  5.0\n"
     ]
    },
    {
     "data": {
      "text/plain": [
       "[<matplotlib.lines.Line2D at 0x1c8ea331950>]"
      ]
     },
     "execution_count": 3,
     "metadata": {},
     "output_type": "execute_result"
    },
    {
     "data": {
      "image/png": "[encoded data removed]",
      "text/plain": [
       "<Figure size 640x480 with 1 Axes>"
      ]
     },
     "metadata": {},
     "output_type": "display_data"
    }
   ],
   "source": [
    "print(\"Number of collisions: \", N_c)\n",
    "print(\"Collision_time: \", t_c)\n",
    "print(\"Ancillas frequencies: \", omegaA_list)\n",
    "print(\"Interaction strengths: \", g_I_list)\n",
    "print(\"Best: \", history[-1])\n",
    "print(\"Required time: \", N_c*t_c)\n",
    "plt.plot(history)"
   ]
  },
  {
   "cell_type": "code",
   "execution_count": 8,
   "metadata": {},
   "outputs": [
    {
     "name": "stdout",
     "output_type": "stream",
     "text": [
      "[[ 0.-0.j -0.-0.j -0.+0.j  0.+0.j  0.-0.j]\n",
      " [-0.+0.j  0.-0.j -0.-0.j -0.+0.j  0.+0.j]\n",
      " [-0.-0.j -0.+0.j  0.-0.j -0.-0.j -0.+0.j]\n",
      " [ 0.-0.j -0.-0.j -0.+0.j  0.-0.j -0.-0.j]\n",
      " [ 0.+0.j  0.-0.j -0.-0.j -0.+0.j  0.-0.j]]\n"
     ]
    }
   ],
   "source": [
    "#rho_target = physics_functions.init_system_state(model.H_sys, model.a, model.a_dag, target[0], target[1:])\n",
    "#print(physics_functions.trace_distance(rhoS_list[-1], rho_target))\n",
    "from_lev = 25\n",
    "to_lev = 30\n",
    "decimal = 6\n",
    "print((rhoS_list[-1])[from_lev:to_lev,from_lev:to_lev].round(decimal))\n",
    "#print((rho_target)[from_lev:to_lev,from_lev:to_lev].round(decimal))\n",
    "#print(np.trace(rhoS_list[best_indx]))"
   ]
  },
  {
   "cell_type": "code",
   "execution_count": 15,
   "metadata": {},
   "outputs": [
    {
     "name": "stdout",
     "output_type": "stream",
     "text": [
      "1.6e-05\n"
     ]
    }
   ],
   "source": [
    "print(physics_functions.nongaussianity(rhoS_list[0], physics_functions.get_CovarianceMatrix(rhoS_list[0], model.a, model.a_dag)))"
   ]
  },
  {
   "cell_type": "code",
   "execution_count": null,
   "metadata": {},
   "outputs": [],
   "source": [
    "#rho00_array = np.array([rhoA_list[i][0,0].real for i in range(len(rhoA_list))])\n",
    "#rho01r_array = np.array([rhoA_list[i][0,1].real for i in range(len(rhoA_list))])\n",
    "#rho01c_array = np.array([rhoA_list[i][0,1].imag for i in range(len(rhoA_list))])\n",
    "\n",
    "#plt.plot(rho00_array)"
   ]
  },
  {
   "cell_type": "code",
   "execution_count": null,
   "metadata": {},
   "outputs": [],
   "source": [
    "#Piano simulazioni per domani\n",
    "#prova squeezing 0.5 (interazione lineare e non lineare), poi vedi col tre livelli lineare e non lineare\n",
    "#passa a squeezing 1 dopo (ricorda di passare a 30 livelli)\n",
    "#fai anche squeeze 0.5 e displace\n",
    "#intanto"
   ]
  }
 ],
 "metadata": {
  "kernelspec": {
   "display_name": "Python 3",
   "language": "python",
   "name": "python3"
  },
  "language_info": {
   "codemirror_mode": {
    "name": "ipython",
    "version": 3
   },
   "file_extension": ".py",
   "mimetype": "text/x-python",
   "name": "python",
   "nbconvert_exporter": "python",
   "pygments_lexer": "ipython3",
   "version": "3.13.2"
  }
 },
 "nbformat": 4,
 "nbformat_minor": 2
}
