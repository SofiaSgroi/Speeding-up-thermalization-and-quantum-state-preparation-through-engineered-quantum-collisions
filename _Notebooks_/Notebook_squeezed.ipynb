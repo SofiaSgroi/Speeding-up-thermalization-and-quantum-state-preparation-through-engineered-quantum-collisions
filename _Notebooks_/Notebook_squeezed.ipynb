{
 "cells": [
  {
   "cell_type": "code",
   "execution_count": 1,
   "metadata": {},
   "outputs": [
    {
     "name": "stdout",
     "output_type": "stream",
     "text": [
      "c:\\Users\\sofia\\Desktop\\work_codes\\collisional_stateprep\\To_share\\Variable_Length_GA\n",
      "results/twoAlevs20Slevs_nonlinear_squeezed05T5/info/seedfile.txt\n"
     ]
    }
   ],
   "source": [
    "import os\n",
    "\n",
    "fpath = os.getcwd()[:-12]+\"\\\\Variable_Length_GA\"\n",
    "print(fpath)\n",
    "os.chdir(fpath)\n",
    "os.getcwd()\n",
    "\n",
    "folder_name = \"twoAlevs20Slevs_nonlinear_squeezed05T5\"\n",
    "seed_path = \"results/\" + folder_name + \"/info/seedfile.txt\"\n",
    "\n",
    "print(seed_path)\n",
    "with open(seed_path, \"rb\") as f:\n",
    "        seed_value = int(f.read())\n",
    "\n",
    "import numpy as np\n",
    "np.random.seed(seed_value)\n",
    "\n",
    "import matplotlib.pyplot as plt\n",
    "%matplotlib inline\n",
    "\n",
    "import os\n",
    "import shutil\n",
    "\n",
    "from scipy.linalg import expm, sqrtm\n",
    "\n",
    "import GA\n",
    "import physics_functions\n",
    "import physics_classes\n",
    "import utils\n",
    "\n",
    "exec(\"from results.\" + folder_name + \".info.hyperparameters_physics import *\")\n",
    "exec(\"from results.\" + folder_name + \".info.hyperparameters_GA import *\")\n",
    "exec(\"from results.\" + folder_name + \".info.config import *\")\n",
    "\n",
    "\n",
    "if ancilla_levs==2:\n",
    "        model = physics_classes.model_qubitAncillas(rho0_tuple, N_levs, Omega_S, T, linear_interaction, omegaA_range_list, grange_list, npdtype=npdtype)\n",
    "elif ancilla_levs==3:\n",
    "        model = physics_classes.model_3levsAncillas(rho0_tuple, N_levs, Omega_S, T, linear_interaction, omegaA_range_list, grange_list, npdtype=npdtype)\n",
    "\n",
    "solution = np.loadtxt(\"results/\" + folder_name +\"/solution\")\n",
    "history = np.loadtxt(\"results/\" + folder_name +\"/history\")\n",
    "\n",
    "\n",
    "N_c, t_c, omegaA_list, g_I_list, rhoA_list = model.read_string(solution)\n",
    "rhoS_list = model.evolve(solution)"
   ]
  },
  {
   "cell_type": "code",
   "execution_count": 2,
   "metadata": {},
   "outputs": [
    {
     "name": "stdout",
     "output_type": "stream",
     "text": [
      "0.33625053331406\n",
      "-0.0083605\n"
     ]
    }
   ],
   "source": [
    "import qutip as qp\n",
    "rho0 = model.rhoS_0\n",
    "zeta = 0.5\n",
    "Sqz = expm(0.5*(zeta.conjugate()*model.a@model.a - zeta*model.a_dag@model.a_dag))\n",
    "rhoC0 = (Sqz.conjugate().transpose())@rho0@Sqz\n",
    "rhoC0 = qp.Qobj(rhoC0)\n",
    "\n",
    "theta = 0.01\n",
    "r = zeta\n",
    "k = 2*(theta**2)*(1.-np.tanh(r)**2)/(1.+ np.tanh(r)**2)\n",
    "results = qp.mesolve(qp.Qobj(model.H_sys), rhoC0, tlist=np.linspace(0.,5.,1000),c_ops=[qp.Qobj(np.sqrt(k)*model.a)])\n",
    "trD_entangled = 0.5*np.absolute(np.linalg.eig((Sqz@(results.states[-1].full()-rho0)@(Sqz.conjugate().transpose())))[0]).sum()\n",
    "print(trD_entangled)\n",
    "print(history[-1])"
   ]
  },
  {
   "cell_type": "code",
   "execution_count": 6,
   "metadata": {},
   "outputs": [
    {
     "name": "stdout",
     "output_type": "stream",
     "text": [
      "0.09556660479664794\n"
     ]
    }
   ],
   "source": [
    "theta = 0.5\n",
    "r = zeta\n",
    "k = 2*(theta**2)*(1.-np.tanh(r)**2)/(1.+ np.tanh(r)**2)\n",
    "results = qp.mesolve(qp.Qobj(model.H_sys), rhoC0, tlist=np.linspace(0.,5.,1000),c_ops=[qp.Qobj(np.sqrt(k)*model.a)])\n",
    "trD_entangled = 0.5*np.absolute(np.linalg.eig((Sqz@(results.states[-1].full()-rho0)@(Sqz.conjugate().transpose())))[0]).sum()\n",
    "print(trD_entangled)"
   ]
  },
  {
   "cell_type": "code",
   "execution_count": null,
   "metadata": {},
   "outputs": [],
   "source": []
  }
 ],
 "metadata": {
  "kernelspec": {
   "display_name": "Python 3",
   "language": "python",
   "name": "python3"
  },
  "language_info": {
   "codemirror_mode": {
    "name": "ipython",
    "version": 3
   },
   "file_extension": ".py",
   "mimetype": "text/x-python",
   "name": "python",
   "nbconvert_exporter": "python",
   "pygments_lexer": "ipython3",
   "version": "3.13.3"
  }
 },
 "nbformat": 4,
 "nbformat_minor": 2
}
